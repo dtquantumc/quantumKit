{
 "cells": [
  {
   "cell_type": "markdown",
   "metadata": {},
   "source": [
    "# Zero-sum subset"
   ]
  },
  {
   "cell_type": "markdown",
   "metadata": {},
   "source": [
    "We are given a set of integer numbers, for example $\\left\\{2,5,4,-3,-11\\right\\}$. Right now, we have chosen a very small set of only $5$ numbers, but in principal our set could be very large. \n",
    "\n",
    "The goal is now to find a subset of these numbers that add up to zero. In our case, one can check that the solution is the subset $\\left\\{2,5,4,-11\\right\\}$, since $2+5+4-11=0$. Another possible solution is always $\\{\\}$, the empty set. But this is not very interesting and we will call it the trivial solution.\n",
    "\n",
    "\n",
    "To make everything more general, we can replace these numbers by $N$ variables $C=\\left\\{ c_1, c_2, c_3, \\dots, c_N\\right\\}$, where the dots ($\\dots$) imply that you have to fill in the remaining numbers.\n",
    "\n",
    "To specify a subset, we will introduce another set of variables $X=\\left\\{ x_1, x_2, x_3, \\dots, x_N\\right\\}$. We will require that any of these variables $x_i$ are either $0$ or $1$. Sometimes these are called binary variables. If $x_i=1$, it means that $c_i$ is included in the subset. If $x_i=0$, the number $c_i$ is not included.\n",
    "\n",
    "In this notation, we can compute the sum $S$ of all numbers in a subset as\n",
    "\n",
    "$S=x_1 \\cdot c_1 + x_2 \\cdot c_2 + x_3 \\cdot c_3 + \\dots + x_N \\cdot c_N$.\n",
    "\n",
    "You can see that the notation using the dots ($\\dots$) becomes a little cumbersome. For this reason, people have come up with the following notation:\n",
    "\n",
    "$S =  \\sum_{i=1}^{N} x_i \\cdot c_i$\n",
    "\n",
    "The $\\sum$ symbol (greek S) is an abbreviation for the following instructions: Replace all $i$ to the right of it by $1$ (you get $x_1 \\cdot c_1$), then $2$ (you get $x_2 \\cdot c_2$), then $3$, and all the way up to $N$ and then sum all of these terms. Voilà, you can see that you get the original sum $S$.\n",
    "\n",
    "***\n",
    "### Exercise\n",
    "\n",
    "1. *For the set $\\left\\{2,5,4,-3,-11\\right\\}$, what is the set $X=\\{x_1, x_2, x_3, x_4, x_5\\}$ that specifies the zero-sum subset?*\n",
    "\n",
    "\n",
    "2. *What is the subset corresponding to $X=\\{1,0,1,1,0\\}$ and what is its sum?*\n",
    "\n",
    "\n",
    "3. *How about $X=\\{0,0,0,0,0\\}$?*\n",
    "\n",
    "***\n",
    "\n",
    "\n",
    "\n",
    "### Let's code\n",
    "\n",
    "Below is a set of numbers $C$. Change it to something else if you want. \n",
    "\n",
    "To proceed you need to run the code inside the cell. You do this by putting the cursor inside the cell and pressing Shift + Enter. After succesful execution, the text \"In [  ]\" to the left of the cell will be replaced with \"In[1]\" where \"1\" indicates that this is the first cell you have executed."
   ]
  },
  {
   "cell_type": "code",
   "execution_count": null,
   "metadata": {},
   "outputs": [],
   "source": [
    "C = [2,5,4,-3,-11]"
   ]
  },
  {
   "attachments": {
    "table1.jpg": {
     "image/jpeg": "[encoded data removed]"
    }
   },
   "cell_type": "markdown",
   "metadata": {},
   "source": [
    "We now want to use our computer to find a zero-sum subset. The simplest approach is to build all possible subsets and check if they sum to zero. \n",
    "\n",
    "For this, we first need to teach our computer how to sum a subset, in the following exercise.\n",
    "\n",
    "***\n",
    "### Exercise\n",
    "\n",
    "*Can you write an implementation of the function $\\text{sum_set}(C,X)$? Given a set of numbers $C=\\{c_1,\\dots,c_N\\}$ and the binary set $X=\\{x_1,\\dots,x_N\\}$, it is supposed to return the sum $S =  \\sum_{i=1}^{N} x_i \\cdot c_i$ as discussed above.*\n",
    "\n",
    "*In the python code, the elements of the set $C$ and $X$ are retrieved using $C[i]$ and $X[i]$, respectively. Note that the first element is $C[0]$ and the last element is $C[N-1]$, i.e. python starts counting at 0! The following table shows an example for $C=\\{2,5,4,-3,-11\\}$ and $X=\\{0,1,1,0,1\\}$.* \n",
    "\n",
    "![table1.jpg](attachment:table1.jpg)\n",
    "\n",
    "\n"
   ]
  },
  {
   "cell_type": "code",
   "execution_count": null,
   "metadata": {},
   "outputs": [],
   "source": [
    "def sum_set(C,X):\n",
    "    # takes sets C={c_1,...,c_N} and X={x_1,...,x_N} and returns x_1*c_1 + x_2*c_2 + ... + x_N*c_N\n",
    "    s = 0 # this is the variable we want to store the sum in, initially it is 0.\n",
    "    for i in np.arange(len(X)): # i is a number from 0 to N-1\n",
    "        # fill in the code here\n",
    "    \n",
    "    return s"
   ]
  },
  {
   "cell_type": "markdown",
   "metadata": {},
   "source": [
    "***\n",
    "The code below builds all possible subsets and checks if any of them sum to zero. Run it and check that it gives the expected output!"
   ]
  },
  {
   "cell_type": "code",
   "execution_count": null,
   "metadata": {},
   "outputs": [],
   "source": [
    "import numpy as np\n",
    "import matplotlib.pyplot as plt\n",
    "import time\n",
    "\n",
    "def solve_exactly(C):\n",
    "    \"\"\"\n",
    "    Given a set of numbers C={c_1,...,c_N} this function \n",
    "    returns: exact_result, a list of all sets X that correspond to zero-sum subset\n",
    "             duration, the time it took your computer to find all zero-sum subsets\n",
    "    \"\"\"\n",
    "    exact_result = []\n",
    "    start = time.time()\n",
    "    N = len(C) # N numbers in set S={c_1,...,c_N}\n",
    "    for i in np.arange(2**N):\n",
    "        X = np.array([int(x_i) for x_i in (list(format(i, 'b').zfill(N)))]) # this is the set X={x_1,...,x_N}.\n",
    "        # In every iteration of the for-loop X will be a different combination of 1 and 0 corresponding to a \n",
    "        # different subset\n",
    "        S = sum_set(C,X) # compute sum of subset\n",
    "        if S == 0:\n",
    "            # if the sum of the subset is zero, add it to the results\n",
    "            exact_result.append(X)\n",
    "    end = time.time()\n",
    "    duration = end - start\n",
    "    return exact_result, duration\n",
    "\n",
    "def print_result(C, results):\n",
    "    \"\"\"\n",
    "    prints all subsets\n",
    "    \"\"\"\n",
    "    for sample in results:\n",
    "        answer = ''\n",
    "        s = 0\n",
    "        for i in np.arange(len(sample)):\n",
    "            if sample[i] == 1:\n",
    "                if C[i] > 0:\n",
    "                    answer += \" + \"\n",
    "                else:\n",
    "                    answer += \" - \"\n",
    "                answer += str(abs(C[i]))\n",
    "                s += C[i]\n",
    "\n",
    "        if len(answer) > 0: # don't print anything if it's the trivial set\n",
    "            print(answer[3:],'=', s)\n",
    "\n",
    "exact_result, duration = solve_exactly(np.array(C))\n",
    "print_result(C, exact_result)"
   ]
  },
  {
   "cell_type": "markdown",
   "metadata": {},
   "source": [
    "## How fast is your computer?\n",
    "\n",
    "A very important property of our code is how long it takes to run for a specific size of the set of numbers, $N$.\n",
    "\n",
    "We can figure this out by asking the following question:\n",
    "***\n",
    "### Exercise\n",
    "\n",
    "*How many different subsets are there?*\n",
    "***\n",
    "\n",
    "Well, each number can either be included or not included in a subset. If I just have one number, there is only two options. If I have two numbers, there are $2\\cdot 2=2^2=4$ options: include none, include only the first number, include only the second number, include both. \n",
    "For three numbers, we have $2\\cdot 2\\cdot 2 =2^3= 8$ subsets. And in general, for $N$ numbers, we have $2^N$ subsets.\n",
    "\n",
    "If it takes some time $a$ to build a subset, and we are building $2^N$ subsets, the total time is $a \\cdot 2^N$.\n",
    "\n",
    "But now we also need to also need to sum all subsets. This takes the time $b\\cdot N\\cdot 2^N$. \n",
    "\n",
    "The total computation time, will be $a \\cdot 2^N+ b \\cdot N \\cdot 2^N$. Since the second term gets larger much faster than the first one, the first term is not that important and it is a good approximation to neglect it.\n",
    "\n",
    "So the total time needed is approximately $b \\cdot N\\cdot 2^N$. We call this *exponential scaling* of order $\\mathcal{O}\\left(N \\cdot 2^N\\right)$. The notation with the $\\mathcal{O}$ (\"order\") simply means that we don't really care about the prefactor $b$, but only about the $N$-dependence.\n",
    "\n",
    "Below is a code script that builds all possible subsets of sets of different size $N$ and measures the time needed for that."
   ]
  },
  {
   "cell_type": "code",
   "execution_count": null,
   "metadata": {},
   "outputs": [],
   "source": [
    "from scipy.optimize import curve_fit\n",
    "import random\n",
    "\n",
    "def fit_function(N,a):\n",
    "    return a*N*2**N\n",
    "\n",
    "set_sizes = np.arange(5,18) # perform simulations for sets of size 5 to 19\n",
    "sets = []\n",
    "durations = []\n",
    "for size in set_sizes:\n",
    "    C_random = ((np.random.rand(size)-0.5)*10).astype(int) # get a random set of integer numbers \n",
    "    sets.append(C_random)\n",
    "    exact_result, duration = solve_exactly(C_random)\n",
    "    durations.append(duration)\n",
    "\n",
    "popt, pcov = curve_fit(fit_function, set_sizes[7:],durations[7:])\n",
    "x = np.linspace(min(set_sizes),max(set_sizes),1000)\n",
    "y = fit_function(x, *popt)\n",
    "plt.plot(x, y, 'k--', label='$b \\cdot N \\cdot 2^N$');\n",
    "plt.plot(set_sizes, durations,'r.', label='measured time');\n",
    "plt.xlabel('Size of Set $N$');\n",
    "plt.ylabel('Computation Time in Seconds');\n",
    "plt.legend();"
   ]
  },
  {
   "cell_type": "markdown",
   "metadata": {},
   "source": [
    "The red data points show the time your computer needed to build all subsets of a set of $N$ randomly generated numbers. The black dashed curve is the function $b \\cdot N \\cdot 2^N$ where $b$ has been chosen to fit the red dots. \n",
    "\n",
    "A different way of plotting is to use a log scale. For this, the y-axis is streched in a way that makes an exponential function look linear. This way of visualizing the data makes it easier to anticipate how long the computation time will take for large $N$.\n",
    "\n"
   ]
  },
  {
   "cell_type": "code",
   "execution_count": null,
   "metadata": {},
   "outputs": [],
   "source": [
    "x = np.linspace(min(set_sizes),60,1000)\n",
    "y = fit_function(x, *popt)\n",
    "seconds_per_week = 604800\n",
    "plt.semilogy(x, y/seconds_per_week, 'k--');\n",
    "plt.semilogy(set_sizes, np.array(durations)/seconds_per_week,'r.');\n",
    "plt.xlabel('Size of Set $N$');\n",
    "plt.ylabel('Computation Time in Days');"
   ]
  },
  {
   "cell_type": "markdown",
   "metadata": {},
   "source": [
    "***\n",
    "### Exercise\n",
    "\n",
    "\n",
    "*How long would it supposedly take our code to check all subsets of a set of $N=50$ numbers?*\n",
    "***"
   ]
  },
  {
   "attachments": {
    "table2.jpg": {
     "image/jpeg": "[encoded data removed]"
    }
   },
   "cell_type": "markdown",
   "metadata": {},
   "source": [
    "# Can a Quantum Computer Help?\n",
    "\n",
    "We have seen that it becomes nearly impossible to solve the zero sum subset problem when $N$ gets too large. \n",
    "\n",
    "So we need a different approach: We will use a quantum computer. There are three different types of quantum computation. Here, we will focus on an approach called *adiabatic quantum computation*. The leading company who develops this type of quantum computer id D-Wave. It is located in Burnaby and we will use their cloud service to run programs on the quantum computer in real time.\n",
    "\n",
    "Remember the soap bubble experiment, where a physical system minimzed the total length of a Steiner tree and thereby solved a computationally hard math problem. \n",
    "\n",
    "The D-Wave quantum computer also minimizes an object. Instead of a Steiner tree this object is a mathematatical function $E(x_1,x_2,\\dots,x_N)$ that depends on a bunch of binary variables $x_i$. This is more abstract, but it also turns out to be more useful in that it allows to solve a variety of different problems. The specific way of the minimization relies on quantum effects and we won't have time to explain it in this lecture.\n",
    "\n",
    "For now, all we need to know is:\n",
    "*The D-Wave quantum computer minimizes the function $ E(x_1,x_2,\\dots,x_N) $ which is given by*\n",
    "\n",
    "$E(x_1,x_2,\\dots,x_N) = \\sum_{i=1}^{N}\\sum_{j=1}^{N} a_{i,j} \\cdot x_i \\cdot x_j$\n",
    "\n",
    "Here, the $x_i$ are binary variables that can only have the value $0$ or $1$ and the $a_{i,j}$ are coefficients that are real numbers and can be adjusted to suit the math problem we want to solve.\n",
    "\n",
    "Notice that we have used the sum-notation again. This time, there are two $\\sum$-symbols. The strategy is the same as previously: Replace $i$ and $j$ by all combinations of numbers between $1$ and $N$ and sum up all terms. It looks like this: $E=a_{1,1} \\cdot x_1 \\cdot x_1+ a_{2,1} \\cdot x_2 \\cdot x_1 + a_{1,2} \\cdot x_1 \\cdot x_2 + \\dots$\n",
    "\n",
    "To be a bit more clear, we can also list all terms of the sum up to $i=4$ and $j=4$ in a table:\n",
    "\n",
    "![table2.jpg](attachment:table2.jpg)\n",
    "\n",
    "***\n",
    "### Exercise\n",
    "1. *Write out a few terms of the sum explicitly, by replacing $i$ and $j$ by numbers.*\n",
    "\n",
    "\n",
    "2. *How many terms in the sum are there in terms of $N$?*\n",
    "***\n",
    "\n",
    "\n",
    "\n",
    "\n",
    "# How is this helpful for our problem?\n",
    "\n",
    "Remeber that we want to find a subset whose sum is $S =  \\sum_{i=1}^{N} x_i \\cdot c_i = 0$.\n",
    "\n",
    "Now consider the square of the sum $S^2$. The square of a number is always positive. And the smallest positive number is $0$. But if $S^2=0$ it follows that $S=0$ which is precisely the condition that we have a zero-sum subset. Therefore, minimizing $S^2$ will give us the answer.\n",
    "\n",
    "Let us do the math:\n",
    "\n",
    "$S^2 = \\left(\\sum_{i=1}^{N} x_i \\cdot c_i \\right)^2 = \\left(\\sum_{i=1}^{N} x_i \\cdot c_i \\right)\\left(\\sum_{j=1}^{N} x_j \\cdot c_j \\right) = \\sum_{i=1}^{N}\\sum_{j=1}^{N} c_i \\cdot c_j \\cdot x_i \\cdot x_j$\n",
    "\n",
    "\n",
    "***\n",
    "\n",
    "### Exercise\n",
    "\n",
    "1. *Can you get an idea that above calculation is correct by writing out some terms of the double-sum? If all the different terms confuse you, you could also arrange them in a table.*\n",
    "\n",
    "\n",
    "2. *Calculate $S^2$ for the set $C=\\{3,1,-4\\}$. (This means that $c_1=3, c_2=1, c_3=-4$ and $N=3$)*\n",
    "***\n",
    "\n",
    "We see that $S^2$ exactly looks like $E(x_1,x_2,\\dots,x_N)$ if we identify\n",
    "\n",
    "$a_{i,j} = c_i \\cdot c_j$ .\n",
    "\n",
    "And as we discussed before, the D-Wave quantum computer's purpose is to minimize $E$. \n",
    "\n",
    "The upshot is that we only need to hand the coefficients $a_{i,j}$ to the D-Wave quantum computer. The results of the computation will then be the set $X=\\{x_1,x_2,\\dots,x_N\\}$ that specifies the zero-sum subset."
   ]
  },
  {
   "cell_type": "markdown",
   "metadata": {},
   "source": [
    "***\n",
    "### Exercise\n",
    "\n",
    "*Implement the function $\\text{coefficient_a}(i,j,C)$ that takes indices $i,j$ and the set of numbers $C$ as input and returns the coefficient $a_{i,j} = c_i \\cdot c_j$.*"
   ]
  },
  {
   "cell_type": "code",
   "execution_count": null,
   "metadata": {},
   "outputs": [],
   "source": [
    "def coefficient_a(i,j, C):\n",
    "    return #fill in the code after the return statement"
   ]
  },
  {
   "cell_type": "markdown",
   "metadata": {},
   "source": [
    "We now implement the function $\\text{coefficient_matrix_a}(C)$ that returns a table with entries $a_{i,j}$."
   ]
  },
  {
   "cell_type": "code",
   "execution_count": null,
   "metadata": {},
   "outputs": [],
   "source": [
    "def coefficient_matrix_a(C):\n",
    "    a = np.zeros((len(C),len(C)))\n",
    "    for i in np.arange(len(C)):\n",
    "        for j in np.arange(len(C)):\n",
    "            a[i,j] = coefficient_a(i,j, C)\n",
    "    return a"
   ]
  },
  {
   "cell_type": "markdown",
   "metadata": {},
   "source": [
    "*If you want you can choose a new set of numbers:*"
   ]
  },
  {
   "cell_type": "code",
   "execution_count": null,
   "metadata": {},
   "outputs": [],
   "source": [
    "C = np.array([1,3,2,-3,-4,-4,3,2,6,3,-2,3,-5,4,-2,1-5,-4,2,-5,-1,4])"
   ]
  },
  {
   "cell_type": "markdown",
   "metadata": {},
   "source": [
    "***\n",
    "Now we will solve the problem on the quantum computer."
   ]
  },
  {
   "cell_type": "code",
   "execution_count": null,
   "metadata": {},
   "outputs": [],
   "source": [
    "import numpy as np\n",
    "import dwavebinarycsp\n",
    "from dimod import BinaryQuadraticModel\n",
    "from dwave.system.samplers import DWaveSampler\n",
    "from dwave.system.composites import EmbeddingComposite\n",
    "\n",
    "def solve_on_quantum_computer(C, num_reads=1):\n",
    "    QUBO = coefficient_matrix_a(C)\n",
    "    bqm = BinaryQuadraticModel.from_numpy_matrix(QUBO)\n",
    "    sampler = EmbeddingComposite(DWaveSampler())\n",
    "    response = sampler.sample(bqm, num_reads=num_reads, return_embedding=True)\n",
    "    duration_in_ms = response.info['timing']['qpu_access_time']/1000\n",
    "    return response, duration_in_ms\n",
    "\n",
    "num_reads = 10\n",
    "response, duration = solve_on_quantum_computer(C, num_reads=num_reads)\n",
    "print_result(C, [x_i.sample for x_i in response.data(['sample'])])\n",
    "print('It took the quantum computer', response.info['timing']['qpu_access_time']/1000, \\\n",
    "      'milliseconds to perform the minimization', num_reads, 'times')"
   ]
  },
  {
   "cell_type": "markdown",
   "metadata": {},
   "source": [
    "You will see that the D-Wave quantum computer gives you a bunch of different subsets as an answer and many, in some cases even all of them, don't sum to zero. However, you will notice that the absolute values of all of the sums are quite small.\n",
    "\n",
    "In an ideal world, the D-Wave quantum computer would always return the correct answer. Real-world imperfections, however, lead to wrong results. But this isn't so bad. Given an answer to our problem, it is very easy to check if that answer is correct: We just have to sum up the terms. And summing up numbers has complexity $O(N)$, as we learned, so it's very easy!\n",
    "\n",
    "So, the D-Wave computer has a tendency to get answers right, but can be wrong many times. We repeat the computation a bunch of times and check the results. As long as at least one of the answers is correct, we are good!\n",
    "\n",
    "***\n",
    "### Exercise\n",
    "\n",
    "1. *In practice, one may have to run a problem on the D-Wave machine many times. In the code above, it is run $10$ times. Adjust the parameter $\\text{num_reads}$ to somewhat larger numbers. Can you get a zero-sum subset?*\n",
    "\n",
    "\n",
    "2. *Change the set $C$ and see what happends. What happends if you make the set very large?*\n",
    "***"
   ]
  },
  {
   "cell_type": "markdown",
   "metadata": {},
   "source": [
    "# Is it Faster?\n",
    "\n",
    "Congratulations for having it made so far! You are now one of the few people in the world who can say to have programmed a quantum computer.\n",
    "\n",
    "But here is the most important question: Is all of this useful? This is a very hard question and researchers dedicate careers in trying to answer it. Since we do not have, presently, very good quantum computers, this question is even harder. Still, let us have some optimistic perspective.\n",
    "\n",
    "Previously, we saw that the brute-force solution on your computer became infeasible for large set sizes $N$ because of *exponential scaling*. How does the computation time for the D-Wave quantum computer change with $N$? Run the following code to find out."
   ]
  },
  {
   "cell_type": "code",
   "execution_count": null,
   "metadata": {},
   "outputs": [],
   "source": [
    "duration_quantum_computer = []\n",
    "for i in np.arange(len(sets)):\n",
    "    quantum_result, quantum_duration = solve_on_quantum_computer(sets[i], num_reads=1)\n",
    "    duration_quantum_computer.append(quantum_duration)\n",
    "\n",
    "plt.plot(set_sizes, durations,'r.-', label=\"Your computer\");\n",
    "plt.plot(set_sizes, np.array(duration_quantum_computer)/1000*100,'b.-', label=\"D-Wave (100 runs each)\");\n",
    "plt.xlabel('Size of Set');\n",
    "plt.ylabel('Computation Time in Seconds');\n",
    "plt.legend();"
   ]
  },
  {
   "cell_type": "markdown",
   "metadata": {},
   "source": [
    "The answer is: the computation time does not depend on $N$!\n",
    "\n",
    "Note that the two codes do not solve exactly the same problem: the classical code really is searching for all solutions of the zero-sum subset problem. Annealing 100 instances of the problem indeed does no scale with $N$. But how many instances are necessary to find all solutions, all subsets? Since D-wave's machine only returns solutions probabilistically (as any quantum computer should), this becomes a difficult question in statistics. Yet, if the question posed in the problem of interest changes from: find all instances of zero-sum subsets to find at least a single one, then it seems that our annealing machine has a good chance at displaying advantage over the classical calculation above. But now that the problem changed, is our classical algorithm the most efficient possible? Also, as N increases, how does the chance of performing a successful annealing changes? Well, you can see why people devote their lives to this problem; there are many possibilities and perspectives to be considered.\n",
    "\n",
    "Still, the N-independent scaling shown above is quite striking and we conclude with a high-note, the main take-away message from this lecture: *Quantum Computers may allow us to tackle problems that would be impossible to solve otherwise.*"
   ]
  },
  {
   "cell_type": "code",
   "execution_count": null,
   "metadata": {},
   "outputs": [],
   "source": []
  }
 ],
 "metadata": {
  "kernelspec": {
   "display_name": "Python 3",
   "language": "python",
   "name": "python3"
  },
  "language_info": {
   "codemirror_mode": {
    "name": "ipython",
    "version": 3
   },
   "file_extension": ".py",
   "mimetype": "text/x-python",
   "name": "python",
   "nbconvert_exporter": "python",
   "pygments_lexer": "ipython3",
   "version": "3.7.6"
  }
 },
 "nbformat": 4,
 "nbformat_minor": 2
}
