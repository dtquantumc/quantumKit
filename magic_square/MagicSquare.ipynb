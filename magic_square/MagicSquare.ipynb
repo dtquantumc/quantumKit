{
 "cells": [
  {
   "cell_type": "code",
   "execution_count": 1,
   "metadata": {},
   "outputs": [],
   "source": [
    "import numpy as np\n",
    "import matplotlib.pyplot as plt\n",
    "%matplotlib inline"
   ]
  },
  {
   "cell_type": "code",
   "execution_count": 2,
   "metadata": {},
   "outputs": [],
   "source": [
    "# Pauli matrices\n",
    "e = np.eye(2, dtype=complex)\n",
    "x = np.array([[0, 1], [1, 0]], dtype=complex)\n",
    "y = np.array([[0, -1j], [1j, 0]], dtype=complex)\n",
    "z = np.array([[1, 0], [0, -1]], dtype=complex)\n",
    "paulis = (e, x, y, z)"
   ]
  },
  {
   "cell_type": "code",
   "execution_count": 3,
   "metadata": {},
   "outputs": [],
   "source": [
    "def multikron(matrices):\n",
    "    \"\"\"Tensor product of observables (aka Kronecker product).\"\"\"\n",
    "    if len(matrices) == 2:\n",
    "        return np.kron(matrices[0], matrices[1])\n",
    "    else: \n",
    "        m1 = matrices.pop(0)\n",
    "        matrices[0] = np.kron(m1, matrices[0])\n",
    "        return multikron(matrices)"
   ]
  },
  {
   "cell_type": "code",
   "execution_count": 4,
   "metadata": {},
   "outputs": [],
   "source": [
    "def projector(sgn, a, b, c, d):\n",
    "    \"\"\"Matrix that represents a measurement of Paulis a, b, c, d on qubits\n",
    "    0, 1, 2, 3 respectively.\"\"\"\n",
    "    return (np.eye(16, dtype=complex) + sgn*multikron([paulis[i] for i in (a, b, c, d)]))/2"
   ]
  },
  {
   "cell_type": "code",
   "execution_count": 5,
   "metadata": {},
   "outputs": [],
   "source": [
    "def entangled_state():\n",
    "    \"\"\"Maximally entangled 4-qubit state.\"\"\"\n",
    "    a = np.zeros(16, dtype=complex)\n",
    "    a[[0, 5, 10, 15]] = 1\n",
    "    return a/np.sqrt(4)"
   ]
  },
  {
   "cell_type": "code",
   "execution_count": 6,
   "metadata": {},
   "outputs": [],
   "source": [
    "def measurement_prob(sgn, a, b, c, d, psi):\n",
    "    \"\"\"Probability of obtaining outcome sgn (-1 or +1)\n",
    "    when we do a measurement of Paulis a, b, c, d on qubits\n",
    "    0, 1, 2, 3.\"\"\"\n",
    "    return np.round(np.abs(psi@projector(sgn, a, b, c, d)@psi), decimals=2)"
   ]
  },
  {
   "cell_type": "code",
   "execution_count": 7,
   "metadata": {},
   "outputs": [],
   "source": [
    "def post_measurement_state(p, sgn, a, b, c, d, psi):\n",
    "    \"\"\"State of the qubits after we do a measurement of Paulis\n",
    "    a, b, c, d and obtain outcome sgn with probability p.\"\"\"\n",
    "#     print(p)\n",
    "    assert p > 0 and p <= 1\n",
    "    return projector(sgn, a, b, c, d)@psi/np.sqrt(p)"
   ]
  },
  {
   "cell_type": "code",
   "execution_count": 8,
   "metadata": {},
   "outputs": [],
   "source": [
    "def measure(C, a, b, c, d, psi):\n",
    "    \"\"\"Measures Paulis a, b, c, d on qubits 0, 1, 2, 3\n",
    "    respectively, with constant phase factor C.\n",
    "    Returns the outcome of the measurement and the state\n",
    "    after measurement.\"\"\"\n",
    "    possible_outcomes = (-1, 1)\n",
    "    # Measurement probabilities\n",
    "    p = np.array([measurement_prob(sgn, a, b, c, d, psi) for sgn in possible_outcomes])\n",
    "    # Index for outcome\n",
    "    i = np.random.choice([0, 1], p=p)\n",
    "    outcome = possible_outcomes[i]\n",
    "    # Post measurement state\n",
    "    phi = post_measurement_state(p[i], outcome, a, b, c, d, psi)\n",
    "    return C*outcome, phi"
   ]
  },
  {
   "cell_type": "code",
   "execution_count": 9,
   "metadata": {},
   "outputs": [],
   "source": [
    "# Observables that Alice or Bob need to measure in order \n",
    "# to win the magic square game. The third entry is the sign, \n",
    "# so [1, 1, -1] means measure -XX\n",
    "what_to_measure = np.array([\n",
    "    [1, 0, 1], [0, 1, 1], [1, 1, -1],\n",
    "    [0, 3, 1], [3, 0, 1], [3, 3, -1],\n",
    "    [1, 3, 1], [3, 1, 1], [2, 2, -1]\n",
    "    ]).reshape(3, 3, 3)"
   ]
  },
  {
   "cell_type": "code",
   "execution_count": 10,
   "metadata": {},
   "outputs": [],
   "source": [
    "def entangulator(i, person, psi):\n",
    "    \"\"\"Measures the required observables on state psi to win the magic square\n",
    "    game, given the row (column) number and the person Alice (Bob)\n",
    "    who is measuring.\"\"\"\n",
    "    if person == 'alice':\n",
    "        outcomes = []\n",
    "        for m in what_to_measure[i]:\n",
    "            outcome, phi = measure(m[2], m[0], m[1], 0, 0, psi)\n",
    "            outcomes.append(outcome)\n",
    "            psi = phi\n",
    "    elif person == 'bob':\n",
    "        outcomes = []\n",
    "        for m in what_to_measure[:, i]:\n",
    "            outcome, phi = measure(m[2], 0, 0, m[0], m[1], psi)\n",
    "            outcomes.append(outcome)\n",
    "            psi = phi\n",
    "    else:\n",
    "        raise ValueError(\"Who is {}\".format(person))\n",
    "    return np.array(outcomes), psi"
   ]
  },
  {
   "cell_type": "code",
   "execution_count": 11,
   "metadata": {},
   "outputs": [],
   "source": [
    "def referee():\n",
    "    return np.random.randint(0, 3, 2)"
   ]
  },
  {
   "cell_type": "code",
   "execution_count": 19,
   "metadata": {},
   "outputs": [
    {
     "data": {
      "text/plain": [
       "<matplotlib.image.AxesImage at 0x1198da880>"
      ]
     },
     "execution_count": 19,
     "metadata": {},
     "output_type": "execute_result"
    },
    {
     "data": {
      "image/png": "[encoded data removed]",
      "text/plain": [
       "<Figure size 576x144 with 4 Axes>"
      ]
     },
     "metadata": {
      "needs_background": "light"
     },
     "output_type": "display_data"
    }
   ],
   "source": [
    "# Play the game\n",
    "i, j = referee()\n",
    "alice_outcomes, psi = entangulator(i, 'alice', entangled_state())\n",
    "bob_outcomes, phi = entangulator(j, 'bob', psi)\n",
    "\n",
    "# Visualize the results\n",
    "empty_board = np.zeros((3, 3))\n",
    "alice_board = np.copy(empty_board)\n",
    "bob_board = np.copy(empty_board)\n",
    "ab_board = np.copy(empty_board)\n",
    "\n",
    "alice_board[i] = alice_outcomes\n",
    "bob_board[:, j] = bob_outcomes\n",
    "ab_board[i] = alice_outcomes\n",
    "ab_board[:, j] = bob_outcomes\n",
    "\n",
    "fig, ax = plt.subplots(1, 4, figsize=(8, 2))\n",
    "ax[0].set_title('Empty')\n",
    "ax[0].imshow(empty_board, vmin=-1, vmax=1)\n",
    "ax[1].set_title('Alice: row {}'.format(i))\n",
    "ax[1].imshow(alice_board, vmin=-1, vmax=1)\n",
    "ax[2].set_title('Bob: column {}'.format(j))\n",
    "ax[2].imshow(bob_board, vmin=-1, vmax=1)\n",
    "ax[3].set_title('Combined')\n",
    "ax[3].imshow(ab_board, vmin=-1, vmax=1)"
   ]
  },
  {
   "cell_type": "code",
   "execution_count": 13,
   "metadata": {},
   "outputs": [],
   "source": [
    "def autoplay():\n",
    "    \"\"\"Play the optimal strategy automatically.\"\"\"\n",
    "    i, j = referee()\n",
    "    alice_outcomes, psi = entangulator(i, 'alice', entangled_state())\n",
    "    bob_outcomes, phi = entangulator(j, 'bob', psi)\n",
    "    matching = alice_outcomes[j] == bob_outcomes[i]\n",
    "    alice_parity = np.prod(alice_outcomes) == -1\n",
    "    bob_parity = np.prod(bob_outcomes) == 1\n",
    "    if matching and alice_parity and bob_parity:\n",
    "        return True\n",
    "    else:\n",
    "        print(i, j)\n",
    "        print(alice_outcomes)\n",
    "        print(bob_outcomes)\n",
    "        return False"
   ]
  },
  {
   "cell_type": "code",
   "execution_count": 20,
   "metadata": {},
   "outputs": [],
   "source": [
    "# This will crash unless we win 100% of the time\n",
    "for i in range(1000):\n",
    "    assert autoplay()"
   ]
  },
  {
   "cell_type": "code",
   "execution_count": null,
   "metadata": {},
   "outputs": [],
   "source": []
  }
 ],
 "metadata": {
  "kernelspec": {
   "display_name": "Python 3",
   "language": "python",
   "name": "python3"
  },
  "language_info": {
   "codemirror_mode": {
    "name": "ipython",
    "version": 3
   },
   "file_extension": ".py",
   "mimetype": "text/x-python",
   "name": "python",
   "nbconvert_exporter": "python",
   "pygments_lexer": "ipython3",
   "version": "3.8.3"
  }
 },
 "nbformat": 4,
 "nbformat_minor": 4
}
