{
 "cells": [
  {
   "cell_type": "markdown",
   "metadata": {},
   "source": [
    "<h1><center>  <font color='blue'>Team Building on a Quantum Computer</font> </center></h1>\n",
    "\n",
    "![divimg.png](divimg.png)\n",
    "\n",
    "<br/> Today, we're going to use a Quantum Computer to sort ourselves into roles within a team!\n",
    "\n",
    "We've learned so far that Quantum Computers can solve a number of problems in various industries. We also learned that there is a particular type of quantum computing called $\\textbf{Quantum Annealing}$, which is suited to solving $\\it{optimization}$ problems.\n",
    "\n",
    "<img src=\"maxresdefault.jpg\" width=\"200\" style=\"float:right\">\n",
    "\n",
    "$\\it{Optimization}$ is the process of finding the most efficient use of time or resources. If you were delivering mail to several houses in several neighbourhoods, you may want to optimize your route such that you find a route that will  <br/> allow you to deliver mail in the least amount of time. This 'optimal' route would also use the least amount of gas (if you're driving), and least amount of energy (if you're walking or biking). Often, you'll be maximizing or minimizing something (i.e. minimizing time, or maximizing how much mail you deliver a day)\n",
    "\n",
    "\n",
    "\n",
    "### Let's dive into an optimization problem\n",
    "\n",
    "Suppose that you're in a team of 5, working on a new product. In team settings, communication is key. If all 5 of you try working on your own, you may find that work is being done twice, and progress is slow.\n",
    "\n",
    "You may find it easier to split yourselves among roles. However, if you just assign roles randomly to each group member, people may end up working on roles that aren't their preferred roles. Two team members may prefer each other's roles, in which case this process is quite inefficient and can lead to conflict or less enthusiastic team members.\n",
    "\n",
    "You decide to take on the first role: Project Manager. You've been voted into your position unanimously. It is now your responsibility to assign roles to each team member.\n",
    "\n",
    "### How would you go about this?\n",
    "\n",
    "Write your strategy into the next cell and hit Shift and Enter Key (at the same time) to lock in your answers\n",
    "***"
   ]
  },
  {
   "cell_type": "markdown",
   "metadata": {},
   "source": [
    "### ==================================================\n",
    "\n",
    "\n",
    "\n",
    "\n",
    "\n",
    "### =================================================="
   ]
  },
  {
   "cell_type": "markdown",
   "metadata": {},
   "source": [
    "***\n"
   ]
  },
  {
   "cell_type": "markdown",
   "metadata": {},
   "source": [
    "Perhaps the first thing you'd do is ask team members to let you know what role they'd like to take on. However, this can be particularly problematic if you have several people with the same first choice. You don't really have enough information to assign roles well here.\n",
    "\n",
    "So you ask for their top 3 choices. This may work alright if there are only three roles, but you have 5 team members and five different roles.\n",
    "\n",
    "Okay, so maybe the best thing to do is to get everyone to rank all the roles and all their choices. This'll be good (for the most part). However, you still don't know how strongly someone may feel about particular roles. For instance, you may have team members who are okay with all five roles (or some subset of roles), while other members are extremely passionate about only one role. In situations like these, you may feel that those who feel very strongly about one role be more likely to get it than someone who is equally happy with any role.\n",
    "\n",
    "You decide that the best thing to do is for people to rank their preferences for all five roles, but to assign values from 1-3 instead of arbitrary rankings. 1 being that the role is their preferred choice, and scaling down to three as their least preferred choice.\n",
    "\n",
    "***\n",
    "### Quantum Computer\n",
    "\n",
    "This is not an easy problem to solve by hand. How can you figure out what the best roles are based on numbers? It's a bit tricky, and gets even more challenging when there are more team members and more roles.\n",
    "\n",
    "Luckily for you, this is a problem you can solve on a Quantum Computer. We will need to frame this as an optimization problem. In this case, we want to find the ideal roles such that if people don't get their first choice, most people get their second or third choices. We want to be as efficient as possible with our team, and so the hope is that everyone is happy with their positions.\n",
    "\n",
    "Note that this is a relative assignment. In other words, it may be possible that not everyone is very happy with their role. For instance, if everyone submits the exact same rankings from 1-5, then the problem is making the most out of a challenging situation.\n",
    "***"
   ]
  },
  {
   "cell_type": "code",
   "execution_count": 1,
   "metadata": {},
   "outputs": [],
   "source": [
    "# Importing the necessary packages from D-Wave\n",
    "\n",
    "import dimod\n",
    "import itertools\n",
    "from dwave.system import DWaveSampler, EmbeddingComposite"
   ]
  },
  {
   "cell_type": "markdown",
   "metadata": {},
   "source": [
    "## The Design Challenge\n",
    "<img src=\"group.png\" width=\"200\" style=\"float:right\">\n",
    "\n",
    "Get into groups of 4-5. You are all now working in the aerospace industry. Your mission? To fund, construct, and sell a shuttle that will land on the surface of Mars.\n",
    "\n",
    "There are a few things to note here.\n",
    "<ol/>\n",
    "    <li/> You have a fixed budget of $100.00 </li>\n",
    "    <li/>You will have to build a prototype of your shuttle. </li>\n",
    "    <li/>You will be asked to conduct a 30-second pitch your prototype to potential investors. </li>\n",
    "</ol>\n",
    "\n",
    "There are also several $\\textbf{technical requirements}$ for your design.\n",
    "\n",
    "<ol/>\n",
    "    <li/>Your astronaut must land safely, i.e. they should not fall out of the shuttle.</li>\n",
    "    <li/>You are not allowed to cover the top of the shuttle, i.e. don't cover the top of the dixie cup.</li>\n",
    "    <li/>You cannot place/tape/tie anything inside the shuttle. The only thing in the dixie cup must be the astronaut.</li>\n",
    "</ol>"
   ]
  },
  {
   "cell_type": "markdown",
   "metadata": {},
   "source": [
    "### Roles\n",
    "\n",
    "You'll be using a quantum computer to sort your group into roles. Have each person in your group change one of the letters to their name."
   ]
  },
  {
   "cell_type": "code",
   "execution_count": 2,
   "metadata": {},
   "outputs": [],
   "source": [
    "people = ['A', 'B', 'C', 'D', 'E'] # People's names\n",
    "roles = ['PM', 'PE', 'ME', 'FA', 'MP'] # All the roles\n",
    "gamma = 1"
   ]
  },
  {
   "cell_type": "markdown",
   "metadata": {},
   "source": [
    "These are the following roles.\n",
    "\n",
    "<ol/>\n",
    "    <li/>$\\textbf{Project Manager (PM)}$</li>\n",
    "    <li/>$\\textbf{Physics Engineer (PE)}$</li>\n",
    "    <li/>$\\textbf{Mechanical Engineer (ME)}$</li>\n",
    "    <li/>$\\textbf{Financial Analyst (FA)}$</li>\n",
    "    <li/>$\\textbf{Marketing and Promotional (MP)}$</li>\n",
    "</ol>\n",
    "\n",
    "While you may have been assigned to a particular role, that does not mean that you cannot participate in the other roles. Rather, these roles are meant to assign leadership and responsibility to each aspect of the project.\n",
    "\n",
    "Each team member should rank their preferences for each of the roles from 1 to 3, 1 being most preferred, and 3 being least preferred. Remember to change each letter (A to E) to the team member's name. Go into the following code and make the necessary changes. Hit Shift-Enter to run the code.\n",
    "\n",
    "If you have less than 5 people in your team, feel free to remove a row of letters. Make sure that each line ends with a comma ',', except for the last line which ends in a '}' bracket."
   ]
  },
  {
   "cell_type": "code",
   "execution_count": 3,
   "metadata": {},
   "outputs": [],
   "source": [
    "people_roles = {'A PM': 2, 'A PE': 3, 'A ME': 2, 'A FA': 1, 'A MP': 2,\n",
    "                'B PM': 2, 'B PE': 3, 'B ME': 3,'B FA': 2, 'B MP': 1,\n",
    "                'C PM': 1, 'C PE': 3, 'C ME': 3, 'C FA': 2, 'C MP': 1,\n",
    "                'D PM': 3, 'D PE': 2, 'D ME': 2, 'D FA': 1, 'D MP': 3,\n",
    "                'E PM': 1, 'E PE': 1, 'E ME': 3, 'E FA': 1, 'E MP': 3}"
   ]
  },
  {
   "cell_type": "markdown",
   "metadata": {},
   "source": [
    "Now we'll run the following code to turn our data and our problem into a format that can be embedded and run on a Quantum Computer."
   ]
  },
  {
   "cell_type": "code",
   "execution_count": 4,
   "metadata": {},
   "outputs": [
    {
     "name": "stdout",
     "output_type": "stream",
     "text": [
      "A MP, B ME, C PM, D PE, E FA,  cbf = 0.0\n"
     ]
    }
   ],
   "source": [
    "# change the linear biases\n",
    "for x in people_roles.keys():\n",
    "    people_roles[x] = (people_roles[x] - 2)*gamma\n",
    "\n",
    "bqm = dimod.BinaryQuadraticModel.empty(dimod.BINARY)\n",
    "bqm.linear = people_roles\n",
    "bqm.offset = 5              # this helps us choose 5 people from the set\n",
    "\n",
    "\n",
    "\n",
    "# Evaluate every potential edge in the graph\n",
    "for i, j in itertools.combinations(range(len(people_roles)), 2):\n",
    "    k = list(people_roles.keys())\n",
    "\n",
    "    [person1, role1] = k[i].split()\n",
    "    [person2, role2] = k[j].split()\n",
    "\n",
    "    if person1 == person2 or role1 == role2:\n",
    "        bqm.add_interaction(k[i], k[j], 4, dimod.BINARY)    # enforce strong pos quad bias if nodes have same person or role\n",
    "    else:\n",
    "        bqm.add_interaction(k[i], k[j], -1, dimod.BINARY)\n",
    "\n",
    "# print(bqm)\n",
    "\n",
    "sampler = EmbeddingComposite(DWaveSampler())\n",
    "response = sampler.sample(bqm, chain_strength=8, num_reads=100)\n",
    "\n",
    "# print('\\n')\n",
    "#print(response)\n",
    "\n",
    "# Print the variables chosen in the lowest energy sample\n",
    "sample = response.samples()[0]\n",
    "result = ''\n",
    "\n",
    "for x in range(1):\n",
    "    result = ''\n",
    "    sample = response.samples()[x]\n",
    "\n",
    "    for i in sample.keys():\n",
    "        if sample[i] == 1:\n",
    "            result = result + i + ', '\n",
    "\n",
    "    result += ' cbf = ' + str(response.record['chain_break_fraction'][x])\n",
    "\n",
    "    print(result)\n"
   ]
  },
  {
   "cell_type": "markdown",
   "metadata": {},
   "source": [
    "You may not feel like these roles match your preferences. Run the program again and you may see that you get a different result! This is normal. We want to find the most efficient route, and so we often have to run the code many times to find the optimal result. In the code above, we're running the program, or reading the values 100 times (\"num_reads=100\")"
   ]
  },
  {
   "cell_type": "markdown",
   "metadata": {},
   "source": [
    "### STORE\n",
    "\n",
    "<ol/>\n",
    "    <li/> Plates - CAD $\\textbf{20}$ a plate </li>\n",
    "    <li/> Pipe Cleaners - CAD $\\textbf{10}$ a pipe cleaner </li>\n",
    "    <li/> Skewers CAD $\\textbf{10}$ a skewer </li>\n",
    "    <li/> Tape = CAD $\\textbf{20}$ an arm's length </li>\n",
    "    <li/> Coffee Filters - CAD $\\textbf{60}$ a coffee filter </li>\n",
    "    <li/> Straws - CAD $\\textbf{10}$ a paper straw </li>\n",
    "    <li/> String - CAD $\\textbf{40}$ an arm's length </li>\n",
    "\n",
    "</ol>"
   ]
  }
 ],
 "metadata": {
  "kernelspec": {
   "display_name": "Python 3",
   "language": "python",
   "name": "python3"
  },
  "language_info": {
   "codemirror_mode": {
    "name": "ipython",
    "version": 3
   },
   "file_extension": ".py",
   "mimetype": "text/x-python",
   "name": "python",
   "nbconvert_exporter": "python",
   "pygments_lexer": "ipython3",
   "version": "3.7.4"
  }
 },
 "nbformat": 4,
 "nbformat_minor": 2
}
